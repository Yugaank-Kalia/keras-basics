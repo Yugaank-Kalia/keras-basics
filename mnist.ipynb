{
 "cells": [
  {
   "cell_type": "code",
   "execution_count": 0,
   "metadata": {
    "colab": {},
    "colab_type": "code",
    "id": "NbQRwvDN8B4m"
   },
   "outputs": [],
   "source": [
    "# import required dependencies\n",
    "from keras import backend as k\n",
    "from keras.datasets import mnist\n",
    "from keras.models import Sequential\n",
    "from keras.losses import categorical_crossentropy\n",
    "from keras.optimizers import Adadelta\n",
    "from keras.layers import Dense, Dropout, Flatten\n",
    "from keras.layers.convolutional import Conv2D, MaxPooling2D\n",
    "from keras.utils import to_categorical\n",
    "import matplotlib.pyplot as plt\n",
    "from PIL import Image\n",
    "import numpy as np"
   ]
  },
  {
   "cell_type": "code",
   "execution_count": 116,
   "metadata": {
    "colab": {
     "base_uri": "https://localhost:8080/",
     "height": 86
    },
    "colab_type": "code",
    "id": "CsEu9hNY9dK_",
    "outputId": "43be2594-b532-4f8b-eb5a-310caded03dd"
   },
   "outputs": [
    {
     "name": "stdout",
     "output_type": "stream",
     "text": [
      "x_train shape :  (60000, 28, 28, 1)\n",
      "y_train shape :  (60000, 10)\n",
      "x_test shape :  (10000, 28, 28, 1)\n",
      "y_test shape :  (10000, 10)\n"
     ]
    }
   ],
   "source": [
    "batch_size = 128\n",
    "num_classes = 10\n",
    "epoch = 12\n",
    "image_row, image_col = 28, 28\n",
    "\n",
    "(x_train, y_train), (x_test, y_test) = mnist.load_data()\n",
    "\n",
    "x_train = x_train.reshape(60000, 28, 28, 1)\n",
    "x_test = x_test.reshape(10000, 28, 28, 1)\n",
    "y_train = to_categorical(y_train)\n",
    "y_test = to_categorical(y_test)\n",
    "\n",
    "print('x_train shape : ', x_train.shape)\n",
    "print('y_train shape : ', y_train.shape)\n",
    "print('x_test shape : ', x_test.shape)\n",
    "print('y_test shape : ', y_test.shape)"
   ]
  },
  {
   "cell_type": "code",
   "execution_count": 117,
   "metadata": {
    "colab": {
     "base_uri": "https://localhost:8080/",
     "height": 416
    },
    "colab_type": "code",
    "id": "TedWsDXCD9Jn",
    "outputId": "c12553dc-6a0d-43ae-81c9-da48ce50288c"
   },
   "outputs": [
    {
     "name": "stdout",
     "output_type": "stream",
     "text": [
      "_________________________________________________________________\n",
      "Layer (type)                 Output Shape              Param #   \n",
      "=================================================================\n",
      "conv2d_47 (Conv2D)           (None, 26, 26, 32)        320       \n",
      "_________________________________________________________________\n",
      "conv2d_48 (Conv2D)           (None, 24, 24, 64)        18496     \n",
      "_________________________________________________________________\n",
      "max_pooling2d_23 (MaxPooling (None, 12, 12, 64)        0         \n",
      "_________________________________________________________________\n",
      "dropout_40 (Dropout)         (None, 12, 12, 64)        0         \n",
      "_________________________________________________________________\n",
      "flatten_23 (Flatten)         (None, 9216)              0         \n",
      "_________________________________________________________________\n",
      "dense_45 (Dense)             (None, 128)               1179776   \n",
      "_________________________________________________________________\n",
      "dropout_41 (Dropout)         (None, 128)               0         \n",
      "_________________________________________________________________\n",
      "dense_46 (Dense)             (None, 10)                1290      \n",
      "=================================================================\n",
      "Total params: 1,199,882\n",
      "Trainable params: 1,199,882\n",
      "Non-trainable params: 0\n",
      "_________________________________________________________________\n"
     ]
    }
   ],
   "source": [
    "model = Sequential()\n",
    "\n",
    "model.add(Conv2D(32, kernel_size=(3, 3), \n",
    "activation='relu', input_shape=(28,28,1)))\n",
    "model.add(Conv2D(64, (3, 3), activation='relu'))\n",
    "model.add(MaxPooling2D(pool_size=(2, 2)))\n",
    "model.add(Dropout(0.25))\n",
    "model.add(Flatten())\n",
    "model.add(Dense(128, activation='relu'))\n",
    "model.add(Dropout(0.5))\n",
    "model.add(Dense(num_classes, activation='softmax'))\n",
    "\n",
    "model.summary()"
   ]
  },
  {
   "cell_type": "code",
   "execution_count": 118,
   "metadata": {
    "colab": {
     "base_uri": "https://localhost:8080/",
     "height": 469
    },
    "colab_type": "code",
    "id": "CEOViNfoTMYr",
    "outputId": "1c0acad8-90ad-431a-ef1d-7ddf9ebf8fb5"
   },
   "outputs": [
    {
     "name": "stdout",
     "output_type": "stream",
     "text": [
      "Epoch 1/12\n",
      "60000/60000 [==============================] - 9s 157us/step - loss: 1.5422 - acc: 0.8501\n",
      "Epoch 2/12\n",
      "60000/60000 [==============================] - 8s 141us/step - loss: 0.1132 - acc: 0.9679\n",
      "Epoch 3/12\n",
      "60000/60000 [==============================] - 8s 141us/step - loss: 0.0837 - acc: 0.9759\n",
      "Epoch 4/12\n",
      "60000/60000 [==============================] - 8s 140us/step - loss: 0.0639 - acc: 0.9818\n",
      "Epoch 5/12\n",
      "60000/60000 [==============================] - 8s 140us/step - loss: 0.0541 - acc: 0.9840\n",
      "Epoch 6/12\n",
      "60000/60000 [==============================] - 8s 141us/step - loss: 0.0491 - acc: 0.9858\n",
      "Epoch 7/12\n",
      "60000/60000 [==============================] - 8s 141us/step - loss: 0.0421 - acc: 0.9876\n",
      "Epoch 8/12\n",
      "60000/60000 [==============================] - 8s 141us/step - loss: 0.0382 - acc: 0.9888\n",
      "Epoch 9/12\n",
      "60000/60000 [==============================] - 8s 140us/step - loss: 0.0345 - acc: 0.9899\n",
      "Epoch 10/12\n",
      "60000/60000 [==============================] - 8s 141us/step - loss: 0.0320 - acc: 0.9908\n",
      "Epoch 11/12\n",
      "60000/60000 [==============================] - 8s 141us/step - loss: 0.0305 - acc: 0.9909\n",
      "Epoch 12/12\n",
      "60000/60000 [==============================] - 8s 140us/step - loss: 0.0286 - acc: 0.9909\n",
      "Test loss: 0.03837675264708146\n",
      "Test accuracy: 0.9897\n"
     ]
    }
   ],
   "source": [
    "model.compile(loss=categorical_crossentropy,\n",
    "              optimizer=Adadelta(),\n",
    "              metrics=['accuracy'])\n",
    "\n",
    "model.fit(x_train, y_train,\n",
    "          batch_size=batch_size,\n",
    "          epochs=epoch,\n",
    "          verbose=1)\n",
    "score = model.evaluate(x_test, y_test, verbose=0)\n",
    "print('Test loss:', score[0])\n",
    "print('Test accuracy:', score[1])"
   ]
  },
  {
   "cell_type": "code",
   "execution_count": 141,
   "metadata": {
    "colab": {
     "base_uri": "https://localhost:8080/",
     "height": 347
    },
    "colab_type": "code",
    "id": "bkHErtINgcOz",
    "outputId": "f9b81e0b-0b6d-4eae-d5a4-ba23fc10834d"
   },
   "outputs": [
    {
     "data": {
      "image/png": "[encoded data removed]",
      "text/plain": [
       "<Figure size 576x396 with 1 Axes>"
      ]
     },
     "metadata": {
      "tags": []
     },
     "output_type": "display_data"
    }
   ],
   "source": [
    "plt.imshow(x_train[0].reshape((28,28)))\n",
    "plt.show()"
   ]
  },
  {
   "cell_type": "code",
   "execution_count": 142,
   "metadata": {
    "colab": {
     "base_uri": "https://localhost:8080/",
     "height": 34
    },
    "colab_type": "code",
    "id": "xTkBBDjAiWm7",
    "outputId": "7c9f4612-6d92-4357-89c4-772f5ef24d1e"
   },
   "outputs": [
    {
     "data": {
      "text/plain": [
       "5"
      ]
     },
     "execution_count": 142,
     "metadata": {
      "tags": []
     },
     "output_type": "execute_result"
    }
   ],
   "source": [
    "np.argmax(model.predict(x_train[0].reshape(1,28,28,1)))"
   ]
  }
 ],
 "metadata": {
  "accelerator": "GPU",
  "colab": {
   "collapsed_sections": [],
   "name": "mnist.ipynb",
   "provenance": [],
   "version": "0.3.2"
  },
  "kernelspec": {
   "display_name": "Python 3",
   "language": "python",
   "name": "python3"
  },
  "language_info": {
   "codemirror_mode": {
    "name": "ipython",
    "version": 3
   },
   "file_extension": ".py",
   "mimetype": "text/x-python",
   "name": "python",
   "nbconvert_exporter": "python",
   "pygments_lexer": "ipython3",
   "version": "3.6.8"
  }
 },
 "nbformat": 4,
 "nbformat_minor": 1
}
